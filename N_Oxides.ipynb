{
 "cells": [
  {
   "cell_type": "markdown",
   "metadata": {},
   "source": [
    "# Analysis of nitroxides radicals using molecular descriptors and PCA #"
   ]
  },
  {
   "cell_type": "code",
   "execution_count": 147,
   "metadata": {},
   "outputs": [],
   "source": [
    "import pandas as pd\n",
    "from rdkit import Chem\n",
    "from mordred import Calculator, descriptors\n",
    "import plotly.express as px\n",
    "import plotly.graph_objects as go\n",
    "import numpy as np\n",
    "import scipy\n",
    "from sklearn.preprocessing import scale\n",
    "from sklearn.decomposition import PCA\n",
    "from ipywidgets import interact"
   ]
  },
  {
   "cell_type": "markdown",
   "metadata": {},
   "source": [
    "## Total avalaible descriptors, 2&3D ##"
   ]
  },
  {
   "cell_type": "code",
   "execution_count": 148,
   "metadata": {},
   "outputs": [
    {
     "name": "stdout",
     "output_type": "stream",
     "text": [
      "2D:     1613\n",
      "3D:      213\n",
      "------------\n",
      "total:  1826\n"
     ]
    }
   ],
   "source": [
    "n_all = len(Calculator(descriptors, ignore_3D=False).descriptors)\n",
    "n_2D = len(Calculator(descriptors, ignore_3D=True).descriptors)\n",
    "print(\"2D:    {:5}\\n3D:    {:5}\\n------------\\ntotal: {:5}\".format(n_2D, n_all - n_2D, n_all))"
   ]
  },
  {
   "cell_type": "code",
   "execution_count": 149,
   "metadata": {},
   "outputs": [],
   "source": [
    "# Set-up descriptors calcualators\n",
    "\n",
    "calc = Calculator(descriptors, ignore_3D=True)\n",
    "ABCI = Calculator(descriptors.ABCIndex)\n",
    "AB = Calculator(descriptors.AcidBase)\n",
    "Amatrix = Calculator(descriptors.AdjacencyMatrix)\n",
    "IC = Calculator(descriptors.InformationContent)\n",
    "Wiener = Calculator(descriptors.WienerIndex)\n",
    "Weight = Calculator(descriptors.Weight)\n",
    "SlogP = Calculator(descriptors.SLogP)\n",
    "TopoPSA = Calculator(descriptors.TopoPSA)"
   ]
  },
  {
   "cell_type": "markdown",
   "metadata": {},
   "source": [
    "## Import Dataset ##"
   ]
  },
  {
   "cell_type": "code",
   "execution_count": 150,
   "metadata": {},
   "outputs": [
    {
     "data": {
      "text/html": [
       "<div>\n",
       "<style scoped>\n",
       "    .dataframe tbody tr th:only-of-type {\n",
       "        vertical-align: middle;\n",
       "    }\n",
       "\n",
       "    .dataframe tbody tr th {\n",
       "        vertical-align: top;\n",
       "    }\n",
       "\n",
       "    .dataframe thead th {\n",
       "        text-align: right;\n",
       "    }\n",
       "</style>\n",
       "<table border=\"1\" class=\"dataframe\">\n",
       "  <thead>\n",
       "    <tr style=\"text-align: right;\">\n",
       "      <th></th>\n",
       "      <th>code</th>\n",
       "      <th>IUPAC</th>\n",
       "      <th>name</th>\n",
       "      <th>SMILES</th>\n",
       "      <th>group</th>\n",
       "      <th>g_code</th>\n",
       "    </tr>\n",
       "  </thead>\n",
       "  <tbody>\n",
       "    <tr>\n",
       "      <th>0</th>\n",
       "      <td>A</td>\n",
       "      <td>N,N-ditert-butyl nitroxide</td>\n",
       "      <td>DBN</td>\n",
       "      <td>CC(C)(C)N([O])C(C)(C)C</td>\n",
       "      <td>others</td>\n",
       "      <td>0</td>\n",
       "    </tr>\n",
       "    <tr>\n",
       "      <th>1</th>\n",
       "      <td>B</td>\n",
       "      <td>2,2,6,6-tetramethyl-piperidin-1-yloxyl</td>\n",
       "      <td>TEMPO</td>\n",
       "      <td>CC1(C)CCCC(C)(C)N1[O]</td>\n",
       "      <td>piperidin</td>\n",
       "      <td>1</td>\n",
       "    </tr>\n",
       "    <tr>\n",
       "      <th>2</th>\n",
       "      <td>C</td>\n",
       "      <td>4-amino-2,2,6,6-tetramethyl-piperidin-1-yloxyl</td>\n",
       "      <td>4-amino-TEMPO</td>\n",
       "      <td>CC1(C)CC(N)CC(C)(C)N1[O]</td>\n",
       "      <td>piperidin</td>\n",
       "      <td>1</td>\n",
       "    </tr>\n",
       "    <tr>\n",
       "      <th>3</th>\n",
       "      <td>D</td>\n",
       "      <td>4-hydroxy-2,2,6,6-tetramethyl-piperidin-1-yloxyl</td>\n",
       "      <td>4-hydroxy-TEMPO</td>\n",
       "      <td>CC1(C)CC(O)CC(C)(C)N1[O]</td>\n",
       "      <td>piperidin</td>\n",
       "      <td>1</td>\n",
       "    </tr>\n",
       "    <tr>\n",
       "      <th>4</th>\n",
       "      <td>E</td>\n",
       "      <td>3-carboxy-2,2,6,6-tetramethyl-piperidin-1-yloxyl</td>\n",
       "      <td>3-carboxy-TEMPO</td>\n",
       "      <td>CC1(C)CCC(C(O)=O)C(C)(C)N1[O]</td>\n",
       "      <td>piperidin</td>\n",
       "      <td>1</td>\n",
       "    </tr>\n",
       "    <tr>\n",
       "      <th>5</th>\n",
       "      <td>F</td>\n",
       "      <td>3,4-dicarboxy-2,2,6,6-tetramethyl-piperidin-1-...</td>\n",
       "      <td>3,4-dicarboxy-TEMPO</td>\n",
       "      <td>CC1(C)CC(C(C(O)=O)C(C)(C)N1[O])C(O)=O</td>\n",
       "      <td>piperidin</td>\n",
       "      <td>1</td>\n",
       "    </tr>\n",
       "    <tr>\n",
       "      <th>6</th>\n",
       "      <td>G</td>\n",
       "      <td>3,5-dicarboxy-2,2,6,6-tetramethyl-piperidin-1-...</td>\n",
       "      <td>3,5-dicarboxy-TEMPO</td>\n",
       "      <td>CC1(C)C(CC(C(O)=O)C(C)(C)N1[O])C(O)=O</td>\n",
       "      <td>piperidin</td>\n",
       "      <td>1</td>\n",
       "    </tr>\n",
       "    <tr>\n",
       "      <th>7</th>\n",
       "      <td>H</td>\n",
       "      <td>4-carboxy-2,2,6,6-tetraethylpiperidin-1-yloxyl</td>\n",
       "      <td>4-carboxy-TEEPO</td>\n",
       "      <td>CCC1(CC)CC(CC(CC)(CC)N1[O])C(O)=O</td>\n",
       "      <td>piperidin</td>\n",
       "      <td>1</td>\n",
       "    </tr>\n",
       "    <tr>\n",
       "      <th>8</th>\n",
       "      <td>I</td>\n",
       "      <td>2,2,5,5-tetramethyl-pyrrolidin-1-yloxyl</td>\n",
       "      <td>PROXYL</td>\n",
       "      <td>CC1(C)CCC(C)(C)N1[O]</td>\n",
       "      <td>pyrrolidin</td>\n",
       "      <td>2</td>\n",
       "    </tr>\n",
       "    <tr>\n",
       "      <th>9</th>\n",
       "      <td>J</td>\n",
       "      <td>3-amino-2,2,5,5-tetramethyl-pyrrolidin-1-yloxyl</td>\n",
       "      <td>3-amino-PROXYL</td>\n",
       "      <td>CC1(C)CC(N)C(C)(C)N1[O]</td>\n",
       "      <td>pyrrolidin</td>\n",
       "      <td>2</td>\n",
       "    </tr>\n",
       "    <tr>\n",
       "      <th>10</th>\n",
       "      <td>K</td>\n",
       "      <td>3-methoxy-2,2,5,5-tetramethyl-pyrrolidin-1-yloxyl</td>\n",
       "      <td>3-methoxy-PROXYL</td>\n",
       "      <td>COC1CC(C)(C)N([O])C1(C)C</td>\n",
       "      <td>pyrrolidin</td>\n",
       "      <td>2</td>\n",
       "    </tr>\n",
       "    <tr>\n",
       "      <th>11</th>\n",
       "      <td>L</td>\n",
       "      <td>3-hydroxy-2,2,5,5-tetramethyl-pyrrolidin-1-yloxyl</td>\n",
       "      <td>3-hydroxy-PROXYL</td>\n",
       "      <td>CC1(C)CC(O)C(C)(C)N1[O]</td>\n",
       "      <td>pyrrolidin</td>\n",
       "      <td>2</td>\n",
       "    </tr>\n",
       "    <tr>\n",
       "      <th>12</th>\n",
       "      <td>M</td>\n",
       "      <td>3-carboxy-2,2,5,5-tetramethyl-pyrrolidin-1-yloxyl</td>\n",
       "      <td>3-carboxy-PROXYL</td>\n",
       "      <td>CC1(C)CC(C(O)=O)C(C)(C)N1[O]</td>\n",
       "      <td>pyrrolidin</td>\n",
       "      <td>2</td>\n",
       "    </tr>\n",
       "    <tr>\n",
       "      <th>13</th>\n",
       "      <td>N</td>\n",
       "      <td>3,4-dicarboxy-2,2,5,5-tetramethyl-pyrrolidin-1...</td>\n",
       "      <td>3,4-dicarboxy-PROXYL</td>\n",
       "      <td>CC1(C)C(C(C(O)=O)C(C)(C)N1[O])C(O)=O</td>\n",
       "      <td>pyrrolidin</td>\n",
       "      <td>2</td>\n",
       "    </tr>\n",
       "    <tr>\n",
       "      <th>14</th>\n",
       "      <td>O</td>\n",
       "      <td>3-carboxy-2,2,5,5-tetraethylpyrrolidin-1-yloxyl</td>\n",
       "      <td>3-carboxy-TEEPO</td>\n",
       "      <td>CCC1(CC)CC(C(O)=O)C(CC)(CC)N1[O]</td>\n",
       "      <td>pyrrolidin</td>\n",
       "      <td>2</td>\n",
       "    </tr>\n",
       "    <tr>\n",
       "      <th>15</th>\n",
       "      <td>P</td>\n",
       "      <td>1,1,3,3-tetramethylisoindolin-2-yloxyl</td>\n",
       "      <td>TMIO</td>\n",
       "      <td>CC1(C)N([O])C(C)(C)c2ccccc12</td>\n",
       "      <td>indolin</td>\n",
       "      <td>3</td>\n",
       "    </tr>\n",
       "    <tr>\n",
       "      <th>16</th>\n",
       "      <td>Q</td>\n",
       "      <td>5-carboxy-1,1,3,3-tetramethylisoindolin-2-yloxyl</td>\n",
       "      <td>5-carboxy-TMIO</td>\n",
       "      <td>CC1(C)N([O])C(C)(C)c2cc(ccc12)C(O)=O</td>\n",
       "      <td>indolin</td>\n",
       "      <td>3</td>\n",
       "    </tr>\n",
       "    <tr>\n",
       "      <th>17</th>\n",
       "      <td>R</td>\n",
       "      <td>5,6-dicarboxy-1,1,3,3-tetramethylisoindolin-2-...</td>\n",
       "      <td>5,6-dicarboxy-TMIO</td>\n",
       "      <td>CC1(C)N([O])C(C)(C)c2cc(C(O)=O)c(cc12)C(O)=O</td>\n",
       "      <td>indolin</td>\n",
       "      <td>3</td>\n",
       "    </tr>\n",
       "    <tr>\n",
       "      <th>18</th>\n",
       "      <td>S</td>\n",
       "      <td>1,1,3,3-tetramethyl-2,3-dihydro-2-azaphenalene...</td>\n",
       "      <td>TMAO</td>\n",
       "      <td>CC1(C)N([O])C(C)(C)c2cccc3cccc1c23</td>\n",
       "      <td>others</td>\n",
       "      <td>0</td>\n",
       "    </tr>\n",
       "    <tr>\n",
       "      <th>19</th>\n",
       "      <td>T</td>\n",
       "      <td>2,2-dimethylindolin-1-yloxyl</td>\n",
       "      <td>DMIO</td>\n",
       "      <td>CC1(C)Cc2ccccc2N1[O]</td>\n",
       "      <td>indolin</td>\n",
       "      <td>3</td>\n",
       "    </tr>\n",
       "    <tr>\n",
       "      <th>20</th>\n",
       "      <td>U</td>\n",
       "      <td>2,2-diphenylindolin-1-yloxyl</td>\n",
       "      <td>DPIO</td>\n",
       "      <td>[O]N1c2ccccc2CC1(c3ccccc3)c4ccccc4</td>\n",
       "      <td>indolin</td>\n",
       "      <td>3</td>\n",
       "    </tr>\n",
       "    <tr>\n",
       "      <th>21</th>\n",
       "      <td>V</td>\n",
       "      <td>N-tert-butyl-N-[1-diethylphosphono-2,2-dimethy...</td>\n",
       "      <td>SG1</td>\n",
       "      <td>CCO[P](=O)(OCC)C(N([O])C(C)(C)C)C(C)(C)C</td>\n",
       "      <td>others</td>\n",
       "      <td>0</td>\n",
       "    </tr>\n",
       "    <tr>\n",
       "      <th>22</th>\n",
       "      <td>Z</td>\n",
       "      <td>1,1,3,3-tetraethylisoindolin-2-yloxyl</td>\n",
       "      <td>TEDIO</td>\n",
       "      <td>CCC1(CC)N([O])C(CC)(CC)c2ccccc12</td>\n",
       "      <td>indolin</td>\n",
       "      <td>3</td>\n",
       "    </tr>\n",
       "  </tbody>\n",
       "</table>\n",
       "</div>"
      ],
      "text/plain": [
       "   code                                              IUPAC  \\\n",
       "0     A                         N,N-ditert-butyl nitroxide   \n",
       "1     B             2,2,6,6-tetramethyl-piperidin-1-yloxyl   \n",
       "2     C     4-amino-2,2,6,6-tetramethyl-piperidin-1-yloxyl   \n",
       "3     D   4-hydroxy-2,2,6,6-tetramethyl-piperidin-1-yloxyl   \n",
       "4     E   3-carboxy-2,2,6,6-tetramethyl-piperidin-1-yloxyl   \n",
       "5     F  3,4-dicarboxy-2,2,6,6-tetramethyl-piperidin-1-...   \n",
       "6     G  3,5-dicarboxy-2,2,6,6-tetramethyl-piperidin-1-...   \n",
       "7     H     4-carboxy-2,2,6,6-tetraethylpiperidin-1-yloxyl   \n",
       "8     I            2,2,5,5-tetramethyl-pyrrolidin-1-yloxyl   \n",
       "9     J    3-amino-2,2,5,5-tetramethyl-pyrrolidin-1-yloxyl   \n",
       "10    K  3-methoxy-2,2,5,5-tetramethyl-pyrrolidin-1-yloxyl   \n",
       "11    L  3-hydroxy-2,2,5,5-tetramethyl-pyrrolidin-1-yloxyl   \n",
       "12    M  3-carboxy-2,2,5,5-tetramethyl-pyrrolidin-1-yloxyl   \n",
       "13    N  3,4-dicarboxy-2,2,5,5-tetramethyl-pyrrolidin-1...   \n",
       "14    O    3-carboxy-2,2,5,5-tetraethylpyrrolidin-1-yloxyl   \n",
       "15    P             1,1,3,3-tetramethylisoindolin-2-yloxyl   \n",
       "16    Q   5-carboxy-1,1,3,3-tetramethylisoindolin-2-yloxyl   \n",
       "17    R  5,6-dicarboxy-1,1,3,3-tetramethylisoindolin-2-...   \n",
       "18    S  1,1,3,3-tetramethyl-2,3-dihydro-2-azaphenalene...   \n",
       "19    T                       2,2-dimethylindolin-1-yloxyl   \n",
       "20    U                       2,2-diphenylindolin-1-yloxyl   \n",
       "21    V  N-tert-butyl-N-[1-diethylphosphono-2,2-dimethy...   \n",
       "22    Z              1,1,3,3-tetraethylisoindolin-2-yloxyl   \n",
       "\n",
       "                    name                                        SMILES  \\\n",
       "0                    DBN                        CC(C)(C)N([O])C(C)(C)C   \n",
       "1                  TEMPO                         CC1(C)CCCC(C)(C)N1[O]   \n",
       "2          4-amino-TEMPO                      CC1(C)CC(N)CC(C)(C)N1[O]   \n",
       "3        4-hydroxy-TEMPO                      CC1(C)CC(O)CC(C)(C)N1[O]   \n",
       "4        3-carboxy-TEMPO                 CC1(C)CCC(C(O)=O)C(C)(C)N1[O]   \n",
       "5    3,4-dicarboxy-TEMPO         CC1(C)CC(C(C(O)=O)C(C)(C)N1[O])C(O)=O   \n",
       "6    3,5-dicarboxy-TEMPO         CC1(C)C(CC(C(O)=O)C(C)(C)N1[O])C(O)=O   \n",
       "7        4-carboxy-TEEPO             CCC1(CC)CC(CC(CC)(CC)N1[O])C(O)=O   \n",
       "8                 PROXYL                          CC1(C)CCC(C)(C)N1[O]   \n",
       "9         3-amino-PROXYL                       CC1(C)CC(N)C(C)(C)N1[O]   \n",
       "10      3-methoxy-PROXYL                      COC1CC(C)(C)N([O])C1(C)C   \n",
       "11      3-hydroxy-PROXYL                       CC1(C)CC(O)C(C)(C)N1[O]   \n",
       "12      3-carboxy-PROXYL                  CC1(C)CC(C(O)=O)C(C)(C)N1[O]   \n",
       "13  3,4-dicarboxy-PROXYL          CC1(C)C(C(C(O)=O)C(C)(C)N1[O])C(O)=O   \n",
       "14       3-carboxy-TEEPO              CCC1(CC)CC(C(O)=O)C(CC)(CC)N1[O]   \n",
       "15                  TMIO                  CC1(C)N([O])C(C)(C)c2ccccc12   \n",
       "16        5-carboxy-TMIO          CC1(C)N([O])C(C)(C)c2cc(ccc12)C(O)=O   \n",
       "17    5,6-dicarboxy-TMIO  CC1(C)N([O])C(C)(C)c2cc(C(O)=O)c(cc12)C(O)=O   \n",
       "18                  TMAO            CC1(C)N([O])C(C)(C)c2cccc3cccc1c23   \n",
       "19                  DMIO                          CC1(C)Cc2ccccc2N1[O]   \n",
       "20                  DPIO            [O]N1c2ccccc2CC1(c3ccccc3)c4ccccc4   \n",
       "21                   SG1      CCO[P](=O)(OCC)C(N([O])C(C)(C)C)C(C)(C)C   \n",
       "22                 TEDIO              CCC1(CC)N([O])C(CC)(CC)c2ccccc12   \n",
       "\n",
       "         group  g_code  \n",
       "0       others       0  \n",
       "1    piperidin       1  \n",
       "2    piperidin       1  \n",
       "3    piperidin       1  \n",
       "4    piperidin       1  \n",
       "5    piperidin       1  \n",
       "6    piperidin       1  \n",
       "7    piperidin       1  \n",
       "8   pyrrolidin       2  \n",
       "9   pyrrolidin       2  \n",
       "10  pyrrolidin       2  \n",
       "11  pyrrolidin       2  \n",
       "12  pyrrolidin       2  \n",
       "13  pyrrolidin       2  \n",
       "14  pyrrolidin       2  \n",
       "15     indolin       3  \n",
       "16     indolin       3  \n",
       "17     indolin       3  \n",
       "18      others       0  \n",
       "19     indolin       3  \n",
       "20     indolin       3  \n",
       "21      others       0  \n",
       "22     indolin       3  "
      ]
     },
     "execution_count": 150,
     "metadata": {},
     "output_type": "execute_result"
    }
   ],
   "source": [
    "nox = pd.read_csv('nitroxides.csv', sep=';')\n",
    "groups = ['piperidin','pyrrolidin','indolin']\n",
    "nox['group']='others'\n",
    "nox['g_code']=0\n",
    "for i in range(len(groups)):\n",
    "    for j in range(len(nox)):\n",
    "        if groups[i] in str(nox.at[j,'IUPAC']):\n",
    "            nox.at[j,'group']=groups[i]\n",
    "            nox.at[j,'g_code']=i+1\n",
    "nox"
   ]
  },
  {
   "cell_type": "markdown",
   "metadata": {},
   "source": [
    "## Compute chosen molecular descriptors ##"
   ]
  },
  {
   "cell_type": "code",
   "execution_count": 151,
   "metadata": {},
   "outputs": [],
   "source": [
    "nox_mol=[Chem.MolFromSmiles(smi) for smi in nox['SMILES']]"
   ]
  },
  {
   "cell_type": "code",
   "execution_count": 152,
   "metadata": {},
   "outputs": [
    {
     "name": "stderr",
     "output_type": "stream",
     "text": [
      "100%|██████████| 23/23 [00:00<00:00, 510.53it/s]\n",
      "100%|██████████| 23/23 [00:00<00:00, 591.44it/s]\n",
      "100%|██████████| 23/23 [00:00<00:00, 414.37it/s]\n",
      "100%|██████████| 23/23 [00:00<00:00, 143.74it/s]\n",
      "100%|██████████| 23/23 [00:00<00:00, 691.02it/s]\n",
      "100%|██████████| 23/23 [00:00<00:00, 621.32it/s]\n",
      "100%|██████████| 23/23 [00:00<00:00, 568.73it/s]\n",
      "100%|██████████| 23/23 [00:00<00:00, 610.83it/s]\n"
     ]
    }
   ],
   "source": [
    "nox_ABCI = ABCI.pandas(nox_mol)\n",
    "module=[]\n",
    "for i in range(len(nox_ABCI.T)):\n",
    "    module.append('ABC_Index')\n",
    "nox_ABCI.columns = pd.MultiIndex.from_arrays([np.array(module),np.array(nox_ABCI.columns)], \n",
    "                                             names=['module', 'descriptor'])\n",
    "nox_AB = AB.pandas(nox_mol)\n",
    "module=[]\n",
    "for i in range(len(nox_AB.T)):\n",
    "    module.append('Acid_Base')\n",
    "nox_AB.columns = pd.MultiIndex.from_arrays([np.array(module),np.array(nox_AB.columns)], \n",
    "                                             names=['module', 'descriptor'])\n",
    "nox_AM = Amatrix.pandas(nox_mol)\n",
    "module=[]\n",
    "for i in range(len(nox_AM.T)):\n",
    "    module.append('Adjacency_Matrix')\n",
    "\n",
    "nox_AM.columns = pd.MultiIndex.from_arrays([np.array(module),np.array(nox_AM.columns)], \n",
    "                                             names=['module', 'descriptor'])\n",
    "nox_IC = IC.pandas(nox_mol)\n",
    "module=[]\n",
    "for i in range(len(nox_IC.T)):\n",
    "    module.append('Information_Content')\n",
    "nox_IC.columns = pd.MultiIndex.from_arrays([np.array(module),np.array(nox_IC.columns)], \n",
    "                                             names=['module', 'descriptor'])\n",
    "nox_Wiener = Wiener.pandas(nox_mol)\n",
    "module=[]\n",
    "for i in range(len(nox_Wiener.T)):\n",
    "    module.append('Wiener_Index')\n",
    "nox_Wiener.columns = pd.MultiIndex.from_arrays([np.array(module),np.array(nox_Wiener.columns)], \n",
    "                                             names=['module', 'descriptor'])\n",
    "nox_Weight = Weight.pandas(nox_mol)\n",
    "module=[]\n",
    "for i in range(len(nox_Weight.T)):\n",
    "    module.append('Weight')\n",
    "nox_Weight.columns = pd.MultiIndex.from_arrays([np.array(module),np.array(nox_Weight.columns)], \n",
    "                                             names=['module', 'descriptor'])\n",
    "nox_SlogP = SlogP.pandas(nox_mol)\n",
    "module=[]\n",
    "for i in range(len(nox_SlogP.T)):\n",
    "    module.append('SLogP')\n",
    "nox_SlogP.columns = pd.MultiIndex.from_arrays([np.array(module),np.array(nox_SlogP.columns)], \n",
    "                                             names=['module', 'descriptor'])\n",
    "nox_TopoPSA = TopoPSA.pandas(nox_mol)\n",
    "module=[]\n",
    "for i in range(len(nox_TopoPSA.T)):\n",
    "    module.append('TopoPSA')\n",
    "nox_TopoPSA.columns = pd.MultiIndex.from_arrays([np.array(module),np.array(nox_TopoPSA.columns)], \n",
    "                                             names=['module', 'descriptor'])"
   ]
  },
  {
   "cell_type": "code",
   "execution_count": 153,
   "metadata": {},
   "outputs": [],
   "source": [
    "#nox_ds = pd.concat([nox_ABCI,nox_AB,nox_AM,nox_IC,nox_Wiener,nox_Weight,nox_SlogP,nox_TopoPSA], axis=1)\n",
    "nox_ds = pd.concat([nox_ABCI,nox_AB,nox_IC,nox_Wiener,nox_Weight,nox_SlogP,nox_TopoPSA], axis=1)\n",
    "nox_ds.index = nox['name']\n",
    "#nox_ds.count()"
   ]
  },
  {
   "cell_type": "code",
   "execution_count": 154,
   "metadata": {
    "scrolled": false
   },
   "outputs": [
    {
     "data": {
      "text/html": [
       "<div>\n",
       "<style scoped>\n",
       "    .dataframe tbody tr th:only-of-type {\n",
       "        vertical-align: middle;\n",
       "    }\n",
       "\n",
       "    .dataframe tbody tr th {\n",
       "        vertical-align: top;\n",
       "    }\n",
       "\n",
       "    .dataframe thead tr th {\n",
       "        text-align: left;\n",
       "    }\n",
       "\n",
       "    .dataframe thead tr:last-of-type th {\n",
       "        text-align: right;\n",
       "    }\n",
       "</style>\n",
       "<table border=\"1\" class=\"dataframe\">\n",
       "  <thead>\n",
       "    <tr>\n",
       "      <th>module</th>\n",
       "      <th colspan=\"2\" halign=\"left\">ABC_Index</th>\n",
       "      <th colspan=\"2\" halign=\"left\">Acid_Base</th>\n",
       "      <th colspan=\"9\" halign=\"left\">Information_Content</th>\n",
       "      <th colspan=\"2\" halign=\"left\">Wiener_Index</th>\n",
       "      <th colspan=\"2\" halign=\"left\">Weight</th>\n",
       "      <th colspan=\"2\" halign=\"left\">SLogP</th>\n",
       "      <th colspan=\"2\" halign=\"left\">TopoPSA</th>\n",
       "    </tr>\n",
       "    <tr>\n",
       "      <th>descriptor</th>\n",
       "      <th>ABC</th>\n",
       "      <th>ABCGG</th>\n",
       "      <th>nAcid</th>\n",
       "      <th>nBase</th>\n",
       "      <th>IC0</th>\n",
       "      <th>IC1</th>\n",
       "      <th>IC2</th>\n",
       "      <th>IC3</th>\n",
       "      <th>IC4</th>\n",
       "      <th>IC5</th>\n",
       "      <th>...</th>\n",
       "      <th>ZMIC4</th>\n",
       "      <th>ZMIC5</th>\n",
       "      <th>WPath</th>\n",
       "      <th>WPol</th>\n",
       "      <th>MW</th>\n",
       "      <th>AMW</th>\n",
       "      <th>SLogP</th>\n",
       "      <th>SMR</th>\n",
       "      <th>TopoPSA(NO)</th>\n",
       "      <th>TopoPSA</th>\n",
       "    </tr>\n",
       "    <tr>\n",
       "      <th>name</th>\n",
       "      <th></th>\n",
       "      <th></th>\n",
       "      <th></th>\n",
       "      <th></th>\n",
       "      <th></th>\n",
       "      <th></th>\n",
       "      <th></th>\n",
       "      <th></th>\n",
       "      <th></th>\n",
       "      <th></th>\n",
       "      <th></th>\n",
       "      <th></th>\n",
       "      <th></th>\n",
       "      <th></th>\n",
       "      <th></th>\n",
       "      <th></th>\n",
       "      <th></th>\n",
       "      <th></th>\n",
       "      <th></th>\n",
       "      <th></th>\n",
       "      <th></th>\n",
       "    </tr>\n",
       "  </thead>\n",
       "  <tbody>\n",
       "    <tr>\n",
       "      <th>DBN</th>\n",
       "      <td>7.303643</td>\n",
       "      <td>7.754364</td>\n",
       "      <td>0</td>\n",
       "      <td>0</td>\n",
       "      <td>1.269546</td>\n",
       "      <td>1.501340</td>\n",
       "      <td>1.501340</td>\n",
       "      <td>1.501340</td>\n",
       "      <td>1.501340</td>\n",
       "      <td>1.501340</td>\n",
       "      <td>...</td>\n",
       "      <td>30.358961</td>\n",
       "      <td>30.358961</td>\n",
       "      <td>111</td>\n",
       "      <td>12</td>\n",
       "      <td>144.138839</td>\n",
       "      <td>5.147816</td>\n",
       "      <td>2.2309</td>\n",
       "      <td>42.0315</td>\n",
       "      <td>23.14</td>\n",
       "      <td>23.14</td>\n",
       "    </tr>\n",
       "    <tr>\n",
       "      <th>TEMPO</th>\n",
       "      <td>8.400020</td>\n",
       "      <td>8.159052</td>\n",
       "      <td>0</td>\n",
       "      <td>0</td>\n",
       "      <td>1.285982</td>\n",
       "      <td>1.760962</td>\n",
       "      <td>2.425935</td>\n",
       "      <td>2.615928</td>\n",
       "      <td>2.615928</td>\n",
       "      <td>2.615928</td>\n",
       "      <td>...</td>\n",
       "      <td>27.794522</td>\n",
       "      <td>27.794522</td>\n",
       "      <td>134</td>\n",
       "      <td>17</td>\n",
       "      <td>156.138839</td>\n",
       "      <td>5.384098</td>\n",
       "      <td>2.3750</td>\n",
       "      <td>44.5345</td>\n",
       "      <td>23.14</td>\n",
       "      <td>23.14</td>\n",
       "    </tr>\n",
       "    <tr>\n",
       "      <th>4-amino-TEMPO</th>\n",
       "      <td>9.216516</td>\n",
       "      <td>8.946995</td>\n",
       "      <td>0</td>\n",
       "      <td>1</td>\n",
       "      <td>1.365811</td>\n",
       "      <td>2.261072</td>\n",
       "      <td>2.856791</td>\n",
       "      <td>2.856791</td>\n",
       "      <td>2.856791</td>\n",
       "      <td>2.856791</td>\n",
       "      <td>...</td>\n",
       "      <td>28.300953</td>\n",
       "      <td>28.300953</td>\n",
       "      <td>170</td>\n",
       "      <td>19</td>\n",
       "      <td>171.149738</td>\n",
       "      <td>5.520959</td>\n",
       "      <td>1.3122</td>\n",
       "      <td>47.8929</td>\n",
       "      <td>49.16</td>\n",
       "      <td>49.16</td>\n",
       "    </tr>\n",
       "    <tr>\n",
       "      <th>4-hydroxy-TEMPO</th>\n",
       "      <td>9.216516</td>\n",
       "      <td>8.946995</td>\n",
       "      <td>0</td>\n",
       "      <td>0</td>\n",
       "      <td>1.387291</td>\n",
       "      <td>2.190662</td>\n",
       "      <td>2.806239</td>\n",
       "      <td>2.806239</td>\n",
       "      <td>2.806239</td>\n",
       "      <td>2.806239</td>\n",
       "      <td>...</td>\n",
       "      <td>28.519125</td>\n",
       "      <td>28.519125</td>\n",
       "      <td>170</td>\n",
       "      <td>19</td>\n",
       "      <td>172.133754</td>\n",
       "      <td>5.737792</td>\n",
       "      <td>1.3458</td>\n",
       "      <td>45.9243</td>\n",
       "      <td>43.37</td>\n",
       "      <td>43.37</td>\n",
       "    </tr>\n",
       "    <tr>\n",
       "      <th>3-carboxy-TEMPO</th>\n",
       "      <td>10.638070</td>\n",
       "      <td>10.361201</td>\n",
       "      <td>1</td>\n",
       "      <td>0</td>\n",
       "      <td>1.467724</td>\n",
       "      <td>2.453535</td>\n",
       "      <td>3.155639</td>\n",
       "      <td>3.405639</td>\n",
       "      <td>3.780639</td>\n",
       "      <td>3.780639</td>\n",
       "      <td>...</td>\n",
       "      <td>23.215084</td>\n",
       "      <td>23.215084</td>\n",
       "      <td>265</td>\n",
       "      <td>25</td>\n",
       "      <td>200.128668</td>\n",
       "      <td>6.254021</td>\n",
       "      <td>1.6857</td>\n",
       "      <td>51.0433</td>\n",
       "      <td>60.44</td>\n",
       "      <td>60.44</td>\n",
       "    </tr>\n",
       "  </tbody>\n",
       "</table>\n",
       "<p>5 rows × 54 columns</p>\n",
       "</div>"
      ],
      "text/plain": [
       "module           ABC_Index            Acid_Base       Information_Content  \\\n",
       "descriptor             ABC      ABCGG     nAcid nBase                 IC0   \n",
       "name                                                                        \n",
       "DBN               7.303643   7.754364         0     0            1.269546   \n",
       "TEMPO             8.400020   8.159052         0     0            1.285982   \n",
       "4-amino-TEMPO     9.216516   8.946995         0     1            1.365811   \n",
       "4-hydroxy-TEMPO   9.216516   8.946995         0     0            1.387291   \n",
       "3-carboxy-TEMPO  10.638070  10.361201         1     0            1.467724   \n",
       "\n",
       "module                                                             ...  \\\n",
       "descriptor            IC1       IC2       IC3       IC4       IC5  ...   \n",
       "name                                                               ...   \n",
       "DBN              1.501340  1.501340  1.501340  1.501340  1.501340  ...   \n",
       "TEMPO            1.760962  2.425935  2.615928  2.615928  2.615928  ...   \n",
       "4-amino-TEMPO    2.261072  2.856791  2.856791  2.856791  2.856791  ...   \n",
       "4-hydroxy-TEMPO  2.190662  2.806239  2.806239  2.806239  2.806239  ...   \n",
       "3-carboxy-TEMPO  2.453535  3.155639  3.405639  3.780639  3.780639  ...   \n",
       "\n",
       "module                                Wiener_Index           Weight            \\\n",
       "descriptor           ZMIC4      ZMIC5        WPath WPol          MW       AMW   \n",
       "name                                                                            \n",
       "DBN              30.358961  30.358961          111   12  144.138839  5.147816   \n",
       "TEMPO            27.794522  27.794522          134   17  156.138839  5.384098   \n",
       "4-amino-TEMPO    28.300953  28.300953          170   19  171.149738  5.520959   \n",
       "4-hydroxy-TEMPO  28.519125  28.519125          170   19  172.133754  5.737792   \n",
       "3-carboxy-TEMPO  23.215084  23.215084          265   25  200.128668  6.254021   \n",
       "\n",
       "module            SLogP              TopoPSA          \n",
       "descriptor        SLogP      SMR TopoPSA(NO) TopoPSA  \n",
       "name                                                  \n",
       "DBN              2.2309  42.0315       23.14   23.14  \n",
       "TEMPO            2.3750  44.5345       23.14   23.14  \n",
       "4-amino-TEMPO    1.3122  47.8929       49.16   49.16  \n",
       "4-hydroxy-TEMPO  1.3458  45.9243       43.37   43.37  \n",
       "3-carboxy-TEMPO  1.6857  51.0433       60.44   60.44  \n",
       "\n",
       "[5 rows x 54 columns]"
      ]
     },
     "execution_count": 154,
     "metadata": {},
     "output_type": "execute_result"
    }
   ],
   "source": [
    "nox_ds.head()"
   ]
  },
  {
   "cell_type": "markdown",
   "metadata": {},
   "source": [
    "## PCA ##"
   ]
  },
  {
   "cell_type": "code",
   "execution_count": 155,
   "metadata": {},
   "outputs": [],
   "source": [
    "# PCA\n",
    "x = nox_ds.copy()\n",
    "pca = PCA()\n",
    "xs = scale(x)\n",
    "x_red = pca.fit_transform(xs)\n",
    "V = pca.components_\n",
    "nPC = np.arange(len(V))+1\n",
    "dfV = pd.DataFrame(V, columns=[x.columns.levels[1]], index=[nPC])\n",
    "EV_cum = pd.DataFrame(np.cumsum(np.round(pca.explained_variance_ratio_, decimals=4)*100),\n",
    "                  columns =['% Explained Variance'], index=[nPC])"
   ]
  },
  {
   "cell_type": "code",
   "execution_count": 156,
   "metadata": {
    "scrolled": true
   },
   "outputs": [
    {
     "name": "stdout",
     "output_type": "stream",
     "text": [
      "PCs =  23\n"
     ]
    }
   ],
   "source": [
    "print ('PCs = ', len(V))"
   ]
  },
  {
   "cell_type": "code",
   "execution_count": 157,
   "metadata": {
    "scrolled": true
   },
   "outputs": [
    {
     "data": {
      "text/html": [
       "<div>\n",
       "<style scoped>\n",
       "    .dataframe tbody tr th:only-of-type {\n",
       "        vertical-align: middle;\n",
       "    }\n",
       "\n",
       "    .dataframe tbody tr th {\n",
       "        vertical-align: top;\n",
       "    }\n",
       "\n",
       "    .dataframe thead tr th {\n",
       "        text-align: left;\n",
       "    }\n",
       "</style>\n",
       "<table border=\"1\" class=\"dataframe\">\n",
       "  <thead>\n",
       "    <tr>\n",
       "      <th></th>\n",
       "      <th>1</th>\n",
       "      <th>2</th>\n",
       "      <th>3</th>\n",
       "      <th>4</th>\n",
       "      <th>5</th>\n",
       "      <th>6</th>\n",
       "      <th>7</th>\n",
       "      <th>8</th>\n",
       "      <th>9</th>\n",
       "      <th>10</th>\n",
       "    </tr>\n",
       "  </thead>\n",
       "  <tbody>\n",
       "    <tr>\n",
       "      <th>% Explained Variance</th>\n",
       "      <td>49.91</td>\n",
       "      <td>74.84</td>\n",
       "      <td>88.79</td>\n",
       "      <td>93.37</td>\n",
       "      <td>96.24</td>\n",
       "      <td>97.88</td>\n",
       "      <td>98.85</td>\n",
       "      <td>99.55</td>\n",
       "      <td>99.71</td>\n",
       "      <td>99.81</td>\n",
       "    </tr>\n",
       "  </tbody>\n",
       "</table>\n",
       "</div>"
      ],
      "text/plain": [
       "                         1      2      3      4      5      6      7      8   \\\n",
       "% Explained Variance  49.91  74.84  88.79  93.37  96.24  97.88  98.85  99.55   \n",
       "\n",
       "                         9      10  \n",
       "% Explained Variance  99.71  99.81  "
      ]
     },
     "execution_count": 157,
     "metadata": {},
     "output_type": "execute_result"
    }
   ],
   "source": [
    "EV_cum.head(10).T"
   ]
  },
  {
   "cell_type": "markdown",
   "metadata": {},
   "source": [
    "### PRESS plot ##"
   ]
  },
  {
   "cell_type": "code",
   "execution_count": 158,
   "metadata": {
    "scrolled": false
   },
   "outputs": [
    {
     "data": {
      "application/vnd.plotly.v1+json": {
       "config": {
        "plotlyServerURL": "https://plot.ly"
       },
       "data": [
        {
         "hovertemplate": "x=%{x}<br>y=%{y}<extra></extra>",
         "legendgroup": "",
         "marker": {
          "color": "#636efa",
          "symbol": "circle"
         },
         "mode": "markers",
         "name": "",
         "showlegend": false,
         "type": "scatter",
         "x": [
          1,
          2,
          3,
          4,
          5,
          6,
          7,
          8,
          9,
          10,
          11,
          12,
          13,
          14,
          15,
          16,
          17,
          18,
          19,
          20,
          21,
          22,
          23
         ],
         "xaxis": "x",
         "y": [
          49.90617056421056,
          24.927213084658952,
          13.948232498030237,
          4.576632503290532,
          2.865118059689936,
          1.641033492523503,
          0.9657786317287518,
          0.700270964638966,
          0.15940270542320514,
          0.09510316099321325,
          0.06768044584816052,
          0.047475187295367864,
          0.03764021419285047,
          0.02558532424410423,
          0.012232324653926074,
          0.008629231158919337,
          0.007963905778801768,
          0.0034925495030487357,
          0.00280368454420588,
          0.0011915054959728488,
          0.0003222237128079991,
          2.7738383968797595e-05,
          1.098958522958813e-31
         ],
         "yaxis": "y"
        }
       ],
       "layout": {
        "legend": {
         "tracegroupgap": 0
        },
        "margin": {
         "t": 60
        },
        "template": {
         "data": {
          "bar": [
           {
            "error_x": {
             "color": "#2a3f5f"
            },
            "error_y": {
             "color": "#2a3f5f"
            },
            "marker": {
             "line": {
              "color": "#E5ECF6",
              "width": 0.5
             }
            },
            "type": "bar"
           }
          ],
          "barpolar": [
           {
            "marker": {
             "line": {
              "color": "#E5ECF6",
              "width": 0.5
             }
            },
            "type": "barpolar"
           }
          ],
          "carpet": [
           {
            "aaxis": {
             "endlinecolor": "#2a3f5f",
             "gridcolor": "white",
             "linecolor": "white",
             "minorgridcolor": "white",
             "startlinecolor": "#2a3f5f"
            },
            "baxis": {
             "endlinecolor": "#2a3f5f",
             "gridcolor": "white",
             "linecolor": "white",
             "minorgridcolor": "white",
             "startlinecolor": "#2a3f5f"
            },
            "type": "carpet"
           }
          ],
          "choropleth": [
           {
            "colorbar": {
             "outlinewidth": 0,
             "ticks": ""
            },
            "type": "choropleth"
           }
          ],
          "contour": [
           {
            "colorbar": {
             "outlinewidth": 0,
             "ticks": ""
            },
            "colorscale": [
             [
              0,
              "#0d0887"
             ],
             [
              0.1111111111111111,
              "#46039f"
             ],
             [
              0.2222222222222222,
              "#7201a8"
             ],
             [
              0.3333333333333333,
              "#9c179e"
             ],
             [
              0.4444444444444444,
              "#bd3786"
             ],
             [
              0.5555555555555556,
              "#d8576b"
             ],
             [
              0.6666666666666666,
              "#ed7953"
             ],
             [
              0.7777777777777778,
              "#fb9f3a"
             ],
             [
              0.8888888888888888,
              "#fdca26"
             ],
             [
              1,
              "#f0f921"
             ]
            ],
            "type": "contour"
           }
          ],
          "contourcarpet": [
           {
            "colorbar": {
             "outlinewidth": 0,
             "ticks": ""
            },
            "type": "contourcarpet"
           }
          ],
          "heatmap": [
           {
            "colorbar": {
             "outlinewidth": 0,
             "ticks": ""
            },
            "colorscale": [
             [
              0,
              "#0d0887"
             ],
             [
              0.1111111111111111,
              "#46039f"
             ],
             [
              0.2222222222222222,
              "#7201a8"
             ],
             [
              0.3333333333333333,
              "#9c179e"
             ],
             [
              0.4444444444444444,
              "#bd3786"
             ],
             [
              0.5555555555555556,
              "#d8576b"
             ],
             [
              0.6666666666666666,
              "#ed7953"
             ],
             [
              0.7777777777777778,
              "#fb9f3a"
             ],
             [
              0.8888888888888888,
              "#fdca26"
             ],
             [
              1,
              "#f0f921"
             ]
            ],
            "type": "heatmap"
           }
          ],
          "heatmapgl": [
           {
            "colorbar": {
             "outlinewidth": 0,
             "ticks": ""
            },
            "colorscale": [
             [
              0,
              "#0d0887"
             ],
             [
              0.1111111111111111,
              "#46039f"
             ],
             [
              0.2222222222222222,
              "#7201a8"
             ],
             [
              0.3333333333333333,
              "#9c179e"
             ],
             [
              0.4444444444444444,
              "#bd3786"
             ],
             [
              0.5555555555555556,
              "#d8576b"
             ],
             [
              0.6666666666666666,
              "#ed7953"
             ],
             [
              0.7777777777777778,
              "#fb9f3a"
             ],
             [
              0.8888888888888888,
              "#fdca26"
             ],
             [
              1,
              "#f0f921"
             ]
            ],
            "type": "heatmapgl"
           }
          ],
          "histogram": [
           {
            "marker": {
             "colorbar": {
              "outlinewidth": 0,
              "ticks": ""
             }
            },
            "type": "histogram"
           }
          ],
          "histogram2d": [
           {
            "colorbar": {
             "outlinewidth": 0,
             "ticks": ""
            },
            "colorscale": [
             [
              0,
              "#0d0887"
             ],
             [
              0.1111111111111111,
              "#46039f"
             ],
             [
              0.2222222222222222,
              "#7201a8"
             ],
             [
              0.3333333333333333,
              "#9c179e"
             ],
             [
              0.4444444444444444,
              "#bd3786"
             ],
             [
              0.5555555555555556,
              "#d8576b"
             ],
             [
              0.6666666666666666,
              "#ed7953"
             ],
             [
              0.7777777777777778,
              "#fb9f3a"
             ],
             [
              0.8888888888888888,
              "#fdca26"
             ],
             [
              1,
              "#f0f921"
             ]
            ],
            "type": "histogram2d"
           }
          ],
          "histogram2dcontour": [
           {
            "colorbar": {
             "outlinewidth": 0,
             "ticks": ""
            },
            "colorscale": [
             [
              0,
              "#0d0887"
             ],
             [
              0.1111111111111111,
              "#46039f"
             ],
             [
              0.2222222222222222,
              "#7201a8"
             ],
             [
              0.3333333333333333,
              "#9c179e"
             ],
             [
              0.4444444444444444,
              "#bd3786"
             ],
             [
              0.5555555555555556,
              "#d8576b"
             ],
             [
              0.6666666666666666,
              "#ed7953"
             ],
             [
              0.7777777777777778,
              "#fb9f3a"
             ],
             [
              0.8888888888888888,
              "#fdca26"
             ],
             [
              1,
              "#f0f921"
             ]
            ],
            "type": "histogram2dcontour"
           }
          ],
          "mesh3d": [
           {
            "colorbar": {
             "outlinewidth": 0,
             "ticks": ""
            },
            "type": "mesh3d"
           }
          ],
          "parcoords": [
           {
            "line": {
             "colorbar": {
              "outlinewidth": 0,
              "ticks": ""
             }
            },
            "type": "parcoords"
           }
          ],
          "pie": [
           {
            "automargin": true,
            "type": "pie"
           }
          ],
          "scatter": [
           {
            "marker": {
             "colorbar": {
              "outlinewidth": 0,
              "ticks": ""
             }
            },
            "type": "scatter"
           }
          ],
          "scatter3d": [
           {
            "line": {
             "colorbar": {
              "outlinewidth": 0,
              "ticks": ""
             }
            },
            "marker": {
             "colorbar": {
              "outlinewidth": 0,
              "ticks": ""
             }
            },
            "type": "scatter3d"
           }
          ],
          "scattercarpet": [
           {
            "marker": {
             "colorbar": {
              "outlinewidth": 0,
              "ticks": ""
             }
            },
            "type": "scattercarpet"
           }
          ],
          "scattergeo": [
           {
            "marker": {
             "colorbar": {
              "outlinewidth": 0,
              "ticks": ""
             }
            },
            "type": "scattergeo"
           }
          ],
          "scattergl": [
           {
            "marker": {
             "colorbar": {
              "outlinewidth": 0,
              "ticks": ""
             }
            },
            "type": "scattergl"
           }
          ],
          "scattermapbox": [
           {
            "marker": {
             "colorbar": {
              "outlinewidth": 0,
              "ticks": ""
             }
            },
            "type": "scattermapbox"
           }
          ],
          "scatterpolar": [
           {
            "marker": {
             "colorbar": {
              "outlinewidth": 0,
              "ticks": ""
             }
            },
            "type": "scatterpolar"
           }
          ],
          "scatterpolargl": [
           {
            "marker": {
             "colorbar": {
              "outlinewidth": 0,
              "ticks": ""
             }
            },
            "type": "scatterpolargl"
           }
          ],
          "scatterternary": [
           {
            "marker": {
             "colorbar": {
              "outlinewidth": 0,
              "ticks": ""
             }
            },
            "type": "scatterternary"
           }
          ],
          "surface": [
           {
            "colorbar": {
             "outlinewidth": 0,
             "ticks": ""
            },
            "colorscale": [
             [
              0,
              "#0d0887"
             ],
             [
              0.1111111111111111,
              "#46039f"
             ],
             [
              0.2222222222222222,
              "#7201a8"
             ],
             [
              0.3333333333333333,
              "#9c179e"
             ],
             [
              0.4444444444444444,
              "#bd3786"
             ],
             [
              0.5555555555555556,
              "#d8576b"
             ],
             [
              0.6666666666666666,
              "#ed7953"
             ],
             [
              0.7777777777777778,
              "#fb9f3a"
             ],
             [
              0.8888888888888888,
              "#fdca26"
             ],
             [
              1,
              "#f0f921"
             ]
            ],
            "type": "surface"
           }
          ],
          "table": [
           {
            "cells": {
             "fill": {
              "color": "#EBF0F8"
             },
             "line": {
              "color": "white"
             }
            },
            "header": {
             "fill": {
              "color": "#C8D4E3"
             },
             "line": {
              "color": "white"
             }
            },
            "type": "table"
           }
          ]
         },
         "layout": {
          "annotationdefaults": {
           "arrowcolor": "#2a3f5f",
           "arrowhead": 0,
           "arrowwidth": 1
          },
          "coloraxis": {
           "colorbar": {
            "outlinewidth": 0,
            "ticks": ""
           }
          },
          "colorscale": {
           "diverging": [
            [
             0,
             "#8e0152"
            ],
            [
             0.1,
             "#c51b7d"
            ],
            [
             0.2,
             "#de77ae"
            ],
            [
             0.3,
             "#f1b6da"
            ],
            [
             0.4,
             "#fde0ef"
            ],
            [
             0.5,
             "#f7f7f7"
            ],
            [
             0.6,
             "#e6f5d0"
            ],
            [
             0.7,
             "#b8e186"
            ],
            [
             0.8,
             "#7fbc41"
            ],
            [
             0.9,
             "#4d9221"
            ],
            [
             1,
             "#276419"
            ]
           ],
           "sequential": [
            [
             0,
             "#0d0887"
            ],
            [
             0.1111111111111111,
             "#46039f"
            ],
            [
             0.2222222222222222,
             "#7201a8"
            ],
            [
             0.3333333333333333,
             "#9c179e"
            ],
            [
             0.4444444444444444,
             "#bd3786"
            ],
            [
             0.5555555555555556,
             "#d8576b"
            ],
            [
             0.6666666666666666,
             "#ed7953"
            ],
            [
             0.7777777777777778,
             "#fb9f3a"
            ],
            [
             0.8888888888888888,
             "#fdca26"
            ],
            [
             1,
             "#f0f921"
            ]
           ],
           "sequentialminus": [
            [
             0,
             "#0d0887"
            ],
            [
             0.1111111111111111,
             "#46039f"
            ],
            [
             0.2222222222222222,
             "#7201a8"
            ],
            [
             0.3333333333333333,
             "#9c179e"
            ],
            [
             0.4444444444444444,
             "#bd3786"
            ],
            [
             0.5555555555555556,
             "#d8576b"
            ],
            [
             0.6666666666666666,
             "#ed7953"
            ],
            [
             0.7777777777777778,
             "#fb9f3a"
            ],
            [
             0.8888888888888888,
             "#fdca26"
            ],
            [
             1,
             "#f0f921"
            ]
           ]
          },
          "colorway": [
           "#636efa",
           "#EF553B",
           "#00cc96",
           "#ab63fa",
           "#FFA15A",
           "#19d3f3",
           "#FF6692",
           "#B6E880",
           "#FF97FF",
           "#FECB52"
          ],
          "font": {
           "color": "#2a3f5f"
          },
          "geo": {
           "bgcolor": "white",
           "lakecolor": "white",
           "landcolor": "#E5ECF6",
           "showlakes": true,
           "showland": true,
           "subunitcolor": "white"
          },
          "hoverlabel": {
           "align": "left"
          },
          "hovermode": "closest",
          "mapbox": {
           "style": "light"
          },
          "paper_bgcolor": "white",
          "plot_bgcolor": "#E5ECF6",
          "polar": {
           "angularaxis": {
            "gridcolor": "white",
            "linecolor": "white",
            "ticks": ""
           },
           "bgcolor": "#E5ECF6",
           "radialaxis": {
            "gridcolor": "white",
            "linecolor": "white",
            "ticks": ""
           }
          },
          "scene": {
           "xaxis": {
            "backgroundcolor": "#E5ECF6",
            "gridcolor": "white",
            "gridwidth": 2,
            "linecolor": "white",
            "showbackground": true,
            "ticks": "",
            "zerolinecolor": "white"
           },
           "yaxis": {
            "backgroundcolor": "#E5ECF6",
            "gridcolor": "white",
            "gridwidth": 2,
            "linecolor": "white",
            "showbackground": true,
            "ticks": "",
            "zerolinecolor": "white"
           },
           "zaxis": {
            "backgroundcolor": "#E5ECF6",
            "gridcolor": "white",
            "gridwidth": 2,
            "linecolor": "white",
            "showbackground": true,
            "ticks": "",
            "zerolinecolor": "white"
           }
          },
          "shapedefaults": {
           "line": {
            "color": "#2a3f5f"
           }
          },
          "ternary": {
           "aaxis": {
            "gridcolor": "white",
            "linecolor": "white",
            "ticks": ""
           },
           "baxis": {
            "gridcolor": "white",
            "linecolor": "white",
            "ticks": ""
           },
           "bgcolor": "#E5ECF6",
           "caxis": {
            "gridcolor": "white",
            "linecolor": "white",
            "ticks": ""
           }
          },
          "title": {
           "x": 0.05
          },
          "xaxis": {
           "automargin": true,
           "gridcolor": "white",
           "linecolor": "white",
           "ticks": "",
           "title": {
            "standoff": 15
           },
           "zerolinecolor": "white",
           "zerolinewidth": 2
          },
          "yaxis": {
           "automargin": true,
           "gridcolor": "white",
           "linecolor": "white",
           "ticks": "",
           "title": {
            "standoff": 15
           },
           "zerolinecolor": "white",
           "zerolinewidth": 2
          }
         }
        },
        "xaxis": {
         "anchor": "y",
         "domain": [
          0,
          1
         ],
         "title": {
          "text": "x"
         }
        },
        "yaxis": {
         "anchor": "x",
         "domain": [
          0,
          1
         ],
         "title": {
          "text": "y"
         }
        }
       }
      },
      "text/html": [
       "<div>\n",
       "        \n",
       "        \n",
       "            <div id=\"d820d321-f32b-4628-91b0-039966f6f481\" class=\"plotly-graph-div\" style=\"height:525px; width:100%;\"></div>\n",
       "            <script type=\"text/javascript\">\n",
       "                require([\"plotly\"], function(Plotly) {\n",
       "                    window.PLOTLYENV=window.PLOTLYENV || {};\n",
       "                    \n",
       "                if (document.getElementById(\"d820d321-f32b-4628-91b0-039966f6f481\")) {\n",
       "                    Plotly.newPlot(\n",
       "                        'd820d321-f32b-4628-91b0-039966f6f481',\n",
       "                        [{\"hovertemplate\": \"x=%{x}<br>y=%{y}<extra></extra>\", \"legendgroup\": \"\", \"marker\": {\"color\": \"#636efa\", \"symbol\": \"circle\"}, \"mode\": \"markers\", \"name\": \"\", \"showlegend\": false, \"type\": \"scatter\", \"x\": [1, 2, 3, 4, 5, 6, 7, 8, 9, 10, 11, 12, 13, 14, 15, 16, 17, 18, 19, 20, 21, 22, 23], \"xaxis\": \"x\", \"y\": [49.90617056421056, 24.927213084658952, 13.948232498030237, 4.576632503290532, 2.865118059689936, 1.641033492523503, 0.9657786317287518, 0.700270964638966, 0.15940270542320514, 0.09510316099321325, 0.06768044584816052, 0.047475187295367864, 0.03764021419285047, 0.02558532424410423, 0.012232324653926074, 0.008629231158919337, 0.007963905778801768, 0.0034925495030487357, 0.00280368454420588, 0.0011915054959728488, 0.0003222237128079991, 2.7738383968797595e-05, 1.098958522958813e-31], \"yaxis\": \"y\"}],\n",
       "                        {\"legend\": {\"tracegroupgap\": 0}, \"margin\": {\"t\": 60}, \"template\": {\"data\": {\"bar\": [{\"error_x\": {\"color\": \"#2a3f5f\"}, \"error_y\": {\"color\": \"#2a3f5f\"}, \"marker\": {\"line\": {\"color\": \"#E5ECF6\", \"width\": 0.5}}, \"type\": \"bar\"}], \"barpolar\": [{\"marker\": {\"line\": {\"color\": \"#E5ECF6\", \"width\": 0.5}}, \"type\": \"barpolar\"}], \"carpet\": [{\"aaxis\": {\"endlinecolor\": \"#2a3f5f\", \"gridcolor\": \"white\", \"linecolor\": \"white\", \"minorgridcolor\": \"white\", \"startlinecolor\": \"#2a3f5f\"}, \"baxis\": {\"endlinecolor\": \"#2a3f5f\", \"gridcolor\": \"white\", \"linecolor\": \"white\", \"minorgridcolor\": \"white\", \"startlinecolor\": \"#2a3f5f\"}, \"type\": \"carpet\"}], \"choropleth\": [{\"colorbar\": {\"outlinewidth\": 0, \"ticks\": \"\"}, \"type\": \"choropleth\"}], \"contour\": [{\"colorbar\": {\"outlinewidth\": 0, \"ticks\": \"\"}, \"colorscale\": [[0.0, \"#0d0887\"], [0.1111111111111111, \"#46039f\"], [0.2222222222222222, \"#7201a8\"], [0.3333333333333333, \"#9c179e\"], [0.4444444444444444, \"#bd3786\"], [0.5555555555555556, \"#d8576b\"], [0.6666666666666666, \"#ed7953\"], [0.7777777777777778, \"#fb9f3a\"], [0.8888888888888888, \"#fdca26\"], [1.0, \"#f0f921\"]], \"type\": \"contour\"}], \"contourcarpet\": [{\"colorbar\": {\"outlinewidth\": 0, \"ticks\": \"\"}, \"type\": \"contourcarpet\"}], \"heatmap\": [{\"colorbar\": {\"outlinewidth\": 0, \"ticks\": \"\"}, \"colorscale\": [[0.0, \"#0d0887\"], [0.1111111111111111, \"#46039f\"], [0.2222222222222222, \"#7201a8\"], [0.3333333333333333, \"#9c179e\"], [0.4444444444444444, \"#bd3786\"], [0.5555555555555556, \"#d8576b\"], [0.6666666666666666, \"#ed7953\"], [0.7777777777777778, \"#fb9f3a\"], [0.8888888888888888, \"#fdca26\"], [1.0, \"#f0f921\"]], \"type\": \"heatmap\"}], \"heatmapgl\": [{\"colorbar\": {\"outlinewidth\": 0, \"ticks\": \"\"}, \"colorscale\": [[0.0, \"#0d0887\"], [0.1111111111111111, \"#46039f\"], [0.2222222222222222, \"#7201a8\"], [0.3333333333333333, \"#9c179e\"], [0.4444444444444444, \"#bd3786\"], [0.5555555555555556, \"#d8576b\"], [0.6666666666666666, \"#ed7953\"], [0.7777777777777778, \"#fb9f3a\"], [0.8888888888888888, \"#fdca26\"], [1.0, \"#f0f921\"]], \"type\": \"heatmapgl\"}], \"histogram\": [{\"marker\": {\"colorbar\": {\"outlinewidth\": 0, \"ticks\": \"\"}}, \"type\": \"histogram\"}], \"histogram2d\": [{\"colorbar\": {\"outlinewidth\": 0, \"ticks\": \"\"}, \"colorscale\": [[0.0, \"#0d0887\"], [0.1111111111111111, \"#46039f\"], [0.2222222222222222, \"#7201a8\"], [0.3333333333333333, \"#9c179e\"], [0.4444444444444444, \"#bd3786\"], [0.5555555555555556, \"#d8576b\"], [0.6666666666666666, \"#ed7953\"], [0.7777777777777778, \"#fb9f3a\"], [0.8888888888888888, \"#fdca26\"], [1.0, \"#f0f921\"]], \"type\": \"histogram2d\"}], \"histogram2dcontour\": [{\"colorbar\": {\"outlinewidth\": 0, \"ticks\": \"\"}, \"colorscale\": [[0.0, \"#0d0887\"], [0.1111111111111111, \"#46039f\"], [0.2222222222222222, \"#7201a8\"], [0.3333333333333333, \"#9c179e\"], [0.4444444444444444, \"#bd3786\"], [0.5555555555555556, \"#d8576b\"], [0.6666666666666666, \"#ed7953\"], [0.7777777777777778, \"#fb9f3a\"], [0.8888888888888888, \"#fdca26\"], [1.0, \"#f0f921\"]], \"type\": \"histogram2dcontour\"}], \"mesh3d\": [{\"colorbar\": {\"outlinewidth\": 0, \"ticks\": \"\"}, \"type\": \"mesh3d\"}], \"parcoords\": [{\"line\": {\"colorbar\": {\"outlinewidth\": 0, \"ticks\": \"\"}}, \"type\": \"parcoords\"}], \"pie\": [{\"automargin\": true, \"type\": \"pie\"}], \"scatter\": [{\"marker\": {\"colorbar\": {\"outlinewidth\": 0, \"ticks\": \"\"}}, \"type\": \"scatter\"}], \"scatter3d\": [{\"line\": {\"colorbar\": {\"outlinewidth\": 0, \"ticks\": \"\"}}, \"marker\": {\"colorbar\": {\"outlinewidth\": 0, \"ticks\": \"\"}}, \"type\": \"scatter3d\"}], \"scattercarpet\": [{\"marker\": {\"colorbar\": {\"outlinewidth\": 0, \"ticks\": \"\"}}, \"type\": \"scattercarpet\"}], \"scattergeo\": [{\"marker\": {\"colorbar\": {\"outlinewidth\": 0, \"ticks\": \"\"}}, \"type\": \"scattergeo\"}], \"scattergl\": [{\"marker\": {\"colorbar\": {\"outlinewidth\": 0, \"ticks\": \"\"}}, \"type\": \"scattergl\"}], \"scattermapbox\": [{\"marker\": {\"colorbar\": {\"outlinewidth\": 0, \"ticks\": \"\"}}, \"type\": \"scattermapbox\"}], \"scatterpolar\": [{\"marker\": {\"colorbar\": {\"outlinewidth\": 0, \"ticks\": \"\"}}, \"type\": \"scatterpolar\"}], \"scatterpolargl\": [{\"marker\": {\"colorbar\": {\"outlinewidth\": 0, \"ticks\": \"\"}}, \"type\": \"scatterpolargl\"}], \"scatterternary\": [{\"marker\": {\"colorbar\": {\"outlinewidth\": 0, \"ticks\": \"\"}}, \"type\": \"scatterternary\"}], \"surface\": [{\"colorbar\": {\"outlinewidth\": 0, \"ticks\": \"\"}, \"colorscale\": [[0.0, \"#0d0887\"], [0.1111111111111111, \"#46039f\"], [0.2222222222222222, \"#7201a8\"], [0.3333333333333333, \"#9c179e\"], [0.4444444444444444, \"#bd3786\"], [0.5555555555555556, \"#d8576b\"], [0.6666666666666666, \"#ed7953\"], [0.7777777777777778, \"#fb9f3a\"], [0.8888888888888888, \"#fdca26\"], [1.0, \"#f0f921\"]], \"type\": \"surface\"}], \"table\": [{\"cells\": {\"fill\": {\"color\": \"#EBF0F8\"}, \"line\": {\"color\": \"white\"}}, \"header\": {\"fill\": {\"color\": \"#C8D4E3\"}, \"line\": {\"color\": \"white\"}}, \"type\": \"table\"}]}, \"layout\": {\"annotationdefaults\": {\"arrowcolor\": \"#2a3f5f\", \"arrowhead\": 0, \"arrowwidth\": 1}, \"coloraxis\": {\"colorbar\": {\"outlinewidth\": 0, \"ticks\": \"\"}}, \"colorscale\": {\"diverging\": [[0, \"#8e0152\"], [0.1, \"#c51b7d\"], [0.2, \"#de77ae\"], [0.3, \"#f1b6da\"], [0.4, \"#fde0ef\"], [0.5, \"#f7f7f7\"], [0.6, \"#e6f5d0\"], [0.7, \"#b8e186\"], [0.8, \"#7fbc41\"], [0.9, \"#4d9221\"], [1, \"#276419\"]], \"sequential\": [[0.0, \"#0d0887\"], [0.1111111111111111, \"#46039f\"], [0.2222222222222222, \"#7201a8\"], [0.3333333333333333, \"#9c179e\"], [0.4444444444444444, \"#bd3786\"], [0.5555555555555556, \"#d8576b\"], [0.6666666666666666, \"#ed7953\"], [0.7777777777777778, \"#fb9f3a\"], [0.8888888888888888, \"#fdca26\"], [1.0, \"#f0f921\"]], \"sequentialminus\": [[0.0, \"#0d0887\"], [0.1111111111111111, \"#46039f\"], [0.2222222222222222, \"#7201a8\"], [0.3333333333333333, \"#9c179e\"], [0.4444444444444444, \"#bd3786\"], [0.5555555555555556, \"#d8576b\"], [0.6666666666666666, \"#ed7953\"], [0.7777777777777778, \"#fb9f3a\"], [0.8888888888888888, \"#fdca26\"], [1.0, \"#f0f921\"]]}, \"colorway\": [\"#636efa\", \"#EF553B\", \"#00cc96\", \"#ab63fa\", \"#FFA15A\", \"#19d3f3\", \"#FF6692\", \"#B6E880\", \"#FF97FF\", \"#FECB52\"], \"font\": {\"color\": \"#2a3f5f\"}, \"geo\": {\"bgcolor\": \"white\", \"lakecolor\": \"white\", \"landcolor\": \"#E5ECF6\", \"showlakes\": true, \"showland\": true, \"subunitcolor\": \"white\"}, \"hoverlabel\": {\"align\": \"left\"}, \"hovermode\": \"closest\", \"mapbox\": {\"style\": \"light\"}, \"paper_bgcolor\": \"white\", \"plot_bgcolor\": \"#E5ECF6\", \"polar\": {\"angularaxis\": {\"gridcolor\": \"white\", \"linecolor\": \"white\", \"ticks\": \"\"}, \"bgcolor\": \"#E5ECF6\", \"radialaxis\": {\"gridcolor\": \"white\", \"linecolor\": \"white\", \"ticks\": \"\"}}, \"scene\": {\"xaxis\": {\"backgroundcolor\": \"#E5ECF6\", \"gridcolor\": \"white\", \"gridwidth\": 2, \"linecolor\": \"white\", \"showbackground\": true, \"ticks\": \"\", \"zerolinecolor\": \"white\"}, \"yaxis\": {\"backgroundcolor\": \"#E5ECF6\", \"gridcolor\": \"white\", \"gridwidth\": 2, \"linecolor\": \"white\", \"showbackground\": true, \"ticks\": \"\", \"zerolinecolor\": \"white\"}, \"zaxis\": {\"backgroundcolor\": \"#E5ECF6\", \"gridcolor\": \"white\", \"gridwidth\": 2, \"linecolor\": \"white\", \"showbackground\": true, \"ticks\": \"\", \"zerolinecolor\": \"white\"}}, \"shapedefaults\": {\"line\": {\"color\": \"#2a3f5f\"}}, \"ternary\": {\"aaxis\": {\"gridcolor\": \"white\", \"linecolor\": \"white\", \"ticks\": \"\"}, \"baxis\": {\"gridcolor\": \"white\", \"linecolor\": \"white\", \"ticks\": \"\"}, \"bgcolor\": \"#E5ECF6\", \"caxis\": {\"gridcolor\": \"white\", \"linecolor\": \"white\", \"ticks\": \"\"}}, \"title\": {\"x\": 0.05}, \"xaxis\": {\"automargin\": true, \"gridcolor\": \"white\", \"linecolor\": \"white\", \"ticks\": \"\", \"title\": {\"standoff\": 15}, \"zerolinecolor\": \"white\", \"zerolinewidth\": 2}, \"yaxis\": {\"automargin\": true, \"gridcolor\": \"white\", \"linecolor\": \"white\", \"ticks\": \"\", \"title\": {\"standoff\": 15}, \"zerolinecolor\": \"white\", \"zerolinewidth\": 2}}}, \"xaxis\": {\"anchor\": \"y\", \"domain\": [0.0, 1.0], \"title\": {\"text\": \"x\"}}, \"yaxis\": {\"anchor\": \"x\", \"domain\": [0.0, 1.0], \"title\": {\"text\": \"y\"}}},\n",
       "                        {\"responsive\": true}\n",
       "                    ).then(function(){\n",
       "                            \n",
       "var gd = document.getElementById('d820d321-f32b-4628-91b0-039966f6f481');\n",
       "var x = new MutationObserver(function (mutations, observer) {{\n",
       "        var display = window.getComputedStyle(gd).display;\n",
       "        if (!display || display === 'none') {{\n",
       "            console.log([gd, 'removed!']);\n",
       "            Plotly.purge(gd);\n",
       "            observer.disconnect();\n",
       "        }}\n",
       "}});\n",
       "\n",
       "// Listen for the removal of the full notebook cells\n",
       "var notebookContainer = gd.closest('#notebook-container');\n",
       "if (notebookContainer) {{\n",
       "    x.observe(notebookContainer, {childList: true});\n",
       "}}\n",
       "\n",
       "// Listen for the clearing of the current output cell\n",
       "var outputEl = gd.closest('.output');\n",
       "if (outputEl) {{\n",
       "    x.observe(outputEl, {childList: true});\n",
       "}}\n",
       "\n",
       "                        })\n",
       "                };\n",
       "                });\n",
       "            </script>\n",
       "        </div>"
      ]
     },
     "metadata": {},
     "output_type": "display_data"
    }
   ],
   "source": [
    "Q=100*pca.explained_variance_ratio_\n",
    "px.scatter(Q, x= nPC, y= Q)"
   ]
  },
  {
   "cell_type": "code",
   "execution_count": 159,
   "metadata": {},
   "outputs": [],
   "source": [
    "# Calculate ellipse bounds and plot with scores\n",
    "theta = np.concatenate((np.linspace(-np.pi, np.pi, 50), np.linspace(np.pi, -np.pi, 50)))\n",
    "circle = np.array((np.cos(theta), np.sin(theta)))\n",
    "sigma = np.cov(np.array((x_red[:, 0], x_red[:, 1])))\n",
    "ed = np.sqrt(scipy.stats.chi2.ppf(0.95, 2))\n",
    "ell = np.transpose(circle).dot(np.linalg.cholesky(sigma) * ed)\n",
    "a, b = np.max(ell[: ,0]), np.max(ell[: ,1]) #95% ellipse bounds\n",
    "t = np.linspace(0, 2 * np.pi, 100)"
   ]
  },
  {
   "cell_type": "markdown",
   "metadata": {},
   "source": [
    "### SCORE plot ###"
   ]
  },
  {
   "cell_type": "code",
   "execution_count": 160,
   "metadata": {},
   "outputs": [
    {
     "data": {
      "application/vnd.jupyter.widget-view+json": {
       "model_id": "e9fb4a857b794ecab2beb352a53af093",
       "version_major": 2,
       "version_minor": 0
      },
      "text/plain": [
       "interactive(children=(Dropdown(description='PCa', options=('1', '2', '3', '4', '5', '6', '7', '8', '9', '10'),…"
      ]
     },
     "metadata": {},
     "output_type": "display_data"
    }
   ],
   "source": [
    "# Score plot\n",
    "score=pd.DataFrame(x_red)\n",
    "index = np.arange(1,len(V)+1)\n",
    "index = index.astype('int')\n",
    "index = index.astype('str')\n",
    "score.columns=index\n",
    "@interact(PCa=index[:10], PCb=index[:10])\n",
    "def sel(PCa, PCb):\n",
    "    ev1 = int(PCa)-1\n",
    "    ev2 = int(PCb)-1\n",
    "    xtit = 'PC'+PCa+' - explained variance = '+str(\n",
    "        np.round(100*pca.explained_variance_ratio_[ev1],decimals=2))+'%'\n",
    "    ytit = 'PC'+PCb+' - explained variance = '+str(np.round(100*pca.explained_variance_ratio_[ev2],decimals=2))+'%'\n",
    "    fig=go.Figure()\n",
    "    fig.add_trace(go.Scatter(x=score[PCa], y=score[PCb], mode='markers', text=x.index,\n",
    "                             marker=dict(symbol=[200], line_width=2, size=10, color=nox.g_code)))\n",
    "    fig.add_trace(go.Scatter(x=[score.loc[22,PCa]], y=[score.loc[22,PCb]], mode='markers', text='TEDIO',\n",
    "                             marker=dict(symbol=[17], line_width=1, size=15, color='lime')))\n",
    "    fig.add_trace(go.Scatter(x=a * np.cos(t),y=b * np.sin(t),mode='lines',\n",
    "                        line=dict(color='lightgreen', width=2, dash='dash')))\n",
    "    fig.update_layout(height=600, width=800, title='PCA - Score plot', \n",
    "                  xaxis_title=xtit,yaxis_title=ytit, showlegend=False, xaxis_zeroline=True, yaxis_zeroline=True, \n",
    "                  xaxis_zerolinecolor='blue', yaxis_zerolinecolor='blue')\n",
    "    return fig.show()"
   ]
  },
  {
   "cell_type": "code",
   "execution_count": 161,
   "metadata": {
    "scrolled": false
   },
   "outputs": [
    {
     "data": {
      "application/vnd.jupyter.widget-view+json": {
       "model_id": "3487add6b25045afa3304d5be8aca31d",
       "version_major": 2,
       "version_minor": 0
      },
      "text/plain": [
       "interactive(children=(Dropdown(description='PCa', options=('1', '2', '3', '4', '5', '6', '7', '8', '9', '10'),…"
      ]
     },
     "metadata": {},
     "output_type": "display_data"
    }
   ],
   "source": [
    "@interact(PCa=index[:10], PCb=index[:10])\n",
    "def sel(PCa, PCb):\n",
    "    return px.scatter(score, x=score[PCa], y=score[PCb], color=nox.group, hover_name=nox_ds.index)"
   ]
  },
  {
   "cell_type": "code",
   "execution_count": 162,
   "metadata": {},
   "outputs": [
    {
     "data": {
      "application/vnd.jupyter.widget-view+json": {
       "model_id": "797b9070adf54ade80d4cde50cc5841a",
       "version_major": 2,
       "version_minor": 0
      },
      "text/plain": [
       "interactive(children=(Dropdown(description='var', options=('ABC', 'ABCGG', 'AMW', 'BIC0', 'BIC1', 'BIC2', 'BIC…"
      ]
     },
     "metadata": {},
     "output_type": "display_data"
    }
   ],
   "source": [
    "x1d = nox_ds.copy()\n",
    "x1d.columns = nox_ds.columns.levels[1]\n",
    "@interact(var= x1d.columns)\n",
    "def f(var):\n",
    "    return px.scatter(x1d, x=x1d.index, y=var, hover_name=x1d.index, color=nox.group)"
   ]
  },
  {
   "cell_type": "markdown",
   "metadata": {},
   "source": [
    "### LOADINGS plot ###"
   ]
  },
  {
   "cell_type": "code",
   "execution_count": 163,
   "metadata": {},
   "outputs": [],
   "source": [
    "Loadings = dfV.T.copy()\n",
    "Loadings.index = nox_ds.columns\n",
    "Loadings.columns=np.arange(len(dfV))\n",
    "D=np.array(list(Loadings.index))\n",
    "Loadings['descriptors']=D[:,1]\n",
    "Loadings['module']=D[:,0]\n",
    "Loadings['mod_code']=0\n",
    "load_arr = np.array(Loadings.copy())\n",
    "load=pd.DataFrame(load_arr)\n",
    "load.columns=Loadings.columns"
   ]
  },
  {
   "cell_type": "code",
   "execution_count": 164,
   "metadata": {},
   "outputs": [],
   "source": [
    "module = list(Loadings.index.levels[0])\n",
    "for i in range(len(module)):\n",
    "    for j in range(len(Loadings)):\n",
    "        if module[i] == str(load.at[j,'module']):\n",
    "            load.at[j,'mod_code']=i+1"
   ]
  },
  {
   "cell_type": "code",
   "execution_count": 168,
   "metadata": {},
   "outputs": [
    {
     "data": {
      "application/vnd.jupyter.widget-view+json": {
       "model_id": "35ea254acb934aa9a59985b286203404",
       "version_major": 2,
       "version_minor": 0
      },
      "text/plain": [
       "interactive(children=(Dropdown(description='PCa', options=(1, 2, 3, 4, 5, 6, 7, 8, 9, 10), value=1), Dropdown(…"
      ]
     },
     "metadata": {},
     "output_type": "display_data"
    }
   ],
   "source": [
    "@interact(PCa=1+np.arange(10),PCb=1+np.arange(10))\n",
    "def sel(PCa, PCb):\n",
    "    ev1 = PCa-1\n",
    "    ev2 = PCb-1\n",
    "    xtit = 'PC'+str(PCa)+' - explained variance = '+str(\n",
    "        np.round(100*pca.explained_variance_ratio_[ev1],decimals=2))+'%'        \n",
    "    ytit = 'PC'+str(PCb)+' - explained variance = '+str(\n",
    "        np.round(100*pca.explained_variance_ratio_[ev2],decimals=2))+'%'\n",
    "    ff=go.Figure()\n",
    "    ff.add_trace(go.Scatter(x=load[PCa],y=load[PCb],mode='markers+text',\n",
    "                           marker=dict(symbol=[200],\n",
    "                                       color=load['mod_code'], colorscale='rainbow',\n",
    "                                       line_width=2, size=10),\n",
    "                           text=load['descriptors'], textposition='top left', hovertext=load['module']))\n",
    "    ff.update_layout(height=800, width=1000, title='PCA - Loadings plot', xaxis_title=xtit,yaxis_title=ytit, \n",
    "                xaxis_zeroline=True, yaxis_zeroline=True, xaxis_zerolinecolor='blue', yaxis_zerolinecolor='blue')\n",
    "    return ff.show()"
   ]
  },
  {
   "cell_type": "code",
   "execution_count": null,
   "metadata": {},
   "outputs": [],
   "source": []
  }
 ],
 "metadata": {
  "hide_input": false,
  "kernelspec": {
   "display_name": "Python 3",
   "language": "python",
   "name": "python3"
  },
  "language_info": {
   "codemirror_mode": {
    "name": "ipython",
    "version": 3
   },
   "file_extension": ".py",
   "mimetype": "text/x-python",
   "name": "python",
   "nbconvert_exporter": "python",
   "pygments_lexer": "ipython3",
   "version": "3.7.6"
  },
  "latex_envs": {
   "LaTeX_envs_menu_present": true,
   "autoclose": false,
   "autocomplete": true,
   "bibliofile": "biblio.bib",
   "cite_by": "apalike",
   "current_citInitial": 1,
   "eqLabelWithNumbers": true,
   "eqNumInitial": 1,
   "hotkeys": {
    "equation": "Ctrl-E",
    "itemize": "Ctrl-I"
   },
   "labels_anchors": false,
   "latex_user_defs": false,
   "report_style_numbering": false,
   "user_envs_cfg": false
  },
  "toc": {
   "base_numbering": 1,
   "nav_menu": {},
   "number_sections": true,
   "sideBar": true,
   "skip_h1_title": true,
   "title_cell": "Table of Contents",
   "title_sidebar": "Contents",
   "toc_cell": false,
   "toc_position": {},
   "toc_section_display": true,
   "toc_window_display": true
  },
  "varInspector": {
   "cols": {
    "lenName": 16,
    "lenType": 16,
    "lenVar": 40
   },
   "kernels_config": {
    "python": {
     "delete_cmd_postfix": "",
     "delete_cmd_prefix": "del ",
     "library": "var_list.py",
     "varRefreshCmd": "print(var_dic_list())"
    },
    "r": {
     "delete_cmd_postfix": ") ",
     "delete_cmd_prefix": "rm(",
     "library": "var_list.r",
     "varRefreshCmd": "cat(var_dic_list()) "
    }
   },
   "oldHeight": 560,
   "position": {
    "height": "582px",
    "left": "1545px",
    "right": "20px",
    "top": "126px",
    "width": "379px"
   },
   "types_to_exclude": [
    "module",
    "function",
    "builtin_function_or_method",
    "instance",
    "_Feature"
   ],
   "varInspector_section_display": "block",
   "window_display": false
  }
 },
 "nbformat": 4,
 "nbformat_minor": 2
}
